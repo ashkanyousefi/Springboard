{
  "nbformat": 4,
  "nbformat_minor": 0,
  "metadata": {
    "kernelspec": {
      "display_name": "Python 2",
      "language": "python",
      "name": "python2"
    },
    "language_info": {
      "codemirror_mode": {
        "name": "ipython",
        "version": 2
      },
      "file_extension": ".py",
      "mimetype": "text/x-python",
      "name": "python",
      "nbconvert_exporter": "python",
      "pygments_lexer": "ipython2",
      "version": "2.7.13"
    },
    "colab": {
      "name": "api_data_wrangling_mini_project.ipynb",
      "provenance": [],
      "collapsed_sections": [],
      "include_colab_link": true
    }
  },
  "cells": [
    {
      "cell_type": "markdown",
      "metadata": {
        "id": "view-in-github",
        "colab_type": "text"
      },
      "source": [
        "<a href=\"https://colab.research.google.com/github/ashkanyousefi/Springboard/blob/master/api_data_wrangling_mini_project.ipynb\" target=\"_parent\"><img src=\"https://colab.research.google.com/assets/colab-badge.svg\" alt=\"Open In Colab\"/></a>"
      ]
    },
    {
      "cell_type": "markdown",
      "metadata": {
        "id": "TgO_AZ64WsFB",
        "colab_type": "text"
      },
      "source": [
        "*This* exercise will require you to pull some data from the Qunadl API. Qaundl is currently the most widely used aggregator of financial market data."
      ]
    },
    {
      "cell_type": "markdown",
      "metadata": {
        "id": "oKBKbndQWsFE",
        "colab_type": "text"
      },
      "source": [
        "As a first step, you will need to register a free account on the http://www.quandl.com website."
      ]
    },
    {
      "cell_type": "markdown",
      "metadata": {
        "id": "Dv--bYaQWsFE",
        "colab_type": "text"
      },
      "source": [
        "After you register, you will be provided with a unique API key, that you should store:"
      ]
    },
    {
      "cell_type": "code",
      "metadata": {
        "id": "U4ni3FysWsFF",
        "colab_type": "code",
        "colab": {}
      },
      "source": [
        "# Store the API key as a string - according to PEP8, constants are always named in all upper case\n",
        "YOURAPIKEY='HBxP595PMzhhy5ymZxzv'\n",
        "#Use your own key to run the code.\n"
      ],
      "execution_count": 0,
      "outputs": []
    },
    {
      "cell_type": "markdown",
      "metadata": {
        "id": "ISIUvgiqWsFJ",
        "colab_type": "text"
      },
      "source": [
        "Qaundl has a large number of data sources, but, unfortunately, most of them require a Premium subscription. Still, there are also a good number of free datasets."
      ]
    },
    {
      "cell_type": "markdown",
      "metadata": {
        "id": "fYmi5dYNWsFK",
        "colab_type": "text"
      },
      "source": [
        "For this mini project, we will focus on equities data from the Frankfurt Stock Exhange (FSE), which is available for free. We'll try and analyze the stock prices of a company called Carl Zeiss Meditec, which manufactures tools for eye examinations, as well as medical lasers for laser eye surgery: https://www.zeiss.com/meditec/int/home.html. The company is listed under the stock ticker AFX_X."
      ]
    },
    {
      "cell_type": "markdown",
      "metadata": {
        "id": "loCos5keWsFL",
        "colab_type": "text"
      },
      "source": [
        "You can find the detailed Quandl API instructions here: https://docs.quandl.com/docs/time-series"
      ]
    },
    {
      "cell_type": "markdown",
      "metadata": {
        "id": "sG_Jbtb5WsFL",
        "colab_type": "text"
      },
      "source": [
        "While there is a dedicated Python package for connecting to the Quandl API, we would prefer that you use the *requests* package, which can be easily downloaded using *pip* or *conda*. You can find the documentation for the package here: http://docs.python-requests.org/en/master/ "
      ]
    },
    {
      "cell_type": "markdown",
      "metadata": {
        "id": "9p1f4R9yWsFM",
        "colab_type": "text"
      },
      "source": [
        "Finally, apart from the *requests* package, you are encouraged to not use any third party Python packages, such as *pandas*, and instead focus on what's available in the Python Standard Library (the *collections* module might come in handy: https://pymotw.com/3/collections/ ).\n",
        "Also, since you won't have access to DataFrames, you are encouraged to us Python's native data structures - preferably dictionaries, though some questions can also be answered using lists.\n",
        "You can read more on these data structures here: https://docs.python.org/3/tutorial/datastructures.html"
      ]
    },
    {
      "cell_type": "markdown",
      "metadata": {
        "id": "2q_iZwzvWsFN",
        "colab_type": "text"
      },
      "source": [
        "Keep in mind that the JSON responses you will be getting from the API map almost one-to-one to Python's dictionaries. Unfortunately, they can be very nested, so make sure you read up on indexing dictionaries in the documentation provided above."
      ]
    },
    {
      "cell_type": "code",
      "metadata": {
        "id": "huSkSmrFWsFN",
        "colab_type": "code",
        "colab": {
          "base_uri": "https://localhost:8080/",
          "height": 35
        },
        "outputId": "578b31d2-8158-404e-ac6d-af4eac45d05f"
      },
      "source": [
        "# First, import the relevant modules\n",
        "import requests\n",
        "import json\n",
        "\n",
        "URL=\"https://www.quandl.com/api/v3/datasets/FSE/AFX_X/data?start_date='2017-01-01'&end_date='2017-12-28'&api_key={}\".format(YOURAPIKEY)\n",
        "\n",
        "received_data=requests.get(URL)\n",
        "\n",
        "#Check the response\n",
        "received_data.status_code "
      ],
      "execution_count": 202,
      "outputs": [
        {
          "output_type": "execute_result",
          "data": {
            "text/plain": [
              "200"
            ]
          },
          "metadata": {
            "tags": []
          },
          "execution_count": 202
        }
      ]
    },
    {
      "cell_type": "code",
      "metadata": {
        "id": "mQwLzzm4aFA3",
        "colab_type": "code",
        "colab": {}
      },
      "source": [
        ""
      ],
      "execution_count": 0,
      "outputs": []
    },
    {
      "cell_type": "code",
      "metadata": {
        "id": "WL9kqLkU_hRH",
        "colab_type": "code",
        "colab": {
          "base_uri": "https://localhost:8080/",
          "height": 90
        },
        "outputId": "59e95478-ad56-448e-d033-3e22a201be66"
      },
      "source": [
        "received_data_json=received_data.json()\n",
        "# [u'Date', u'Open', u'High', u'Low', u'Close', u'Change', u'Traded Volume']\n",
        "\n",
        "#Inspect the data:\n",
        "print(received_data_json.keys())\n",
        "print(received_data_json['dataset_data'].keys())\n",
        "print(received_data_json['dataset_data']['data'][:2])\n"
      ],
      "execution_count": 208,
      "outputs": [
        {
          "output_type": "stream",
          "text": [
            "[u'dataset_data']\n",
            "[u'column_names', u'collapse', u'end_date', u'transform', u'order', u'frequency', u'limit', u'column_index', u'data', u'start_date']\n",
            "[[u'2017-12-28', 51.65, 51.82, 51.43, 51.6, None, 40660.0, 2099024.0, None, None, None], [u'2017-12-27', 51.45, 51.89, 50.76, 51.82, None, 57452.0, 2957018.0, None, None, None]]\n"
          ],
          "name": "stdout"
        }
      ]
    },
    {
      "cell_type": "markdown",
      "metadata": {
        "id": "_bNqYwXdmieB",
        "colab_type": "text"
      },
      "source": [
        "Q1-Collect data from the Franfurt Stock Exchange, for the ticker AFX_X, for the whole year 2017 (keep in mind that the date format is YYYY-MM-DD).\n",
        "\n"
      ]
    },
    {
      "cell_type": "code",
      "metadata": {
        "id": "mA3mrE6umiQI",
        "colab_type": "code",
        "colab": {
          "base_uri": "https://localhost:8080/",
          "height": 35
        },
        "outputId": "8c713a77-782b-4145-f19a-db0dd15ea886"
      },
      "source": [
        "URL=\"https://www.quandl.com/api/v3/datasets/FSE/AFX_X/data?start_date='2017-01-01'&end_date='2017-12-31'&api_key={}\".format(YOURAPIKEY)\n",
        "AFX_X_data=requests.get(URL)\n",
        "AFX_X_data.status_code"
      ],
      "execution_count": 211,
      "outputs": [
        {
          "output_type": "execute_result",
          "data": {
            "text/plain": [
              "200"
            ]
          },
          "metadata": {
            "tags": []
          },
          "execution_count": 211
        }
      ]
    },
    {
      "cell_type": "markdown",
      "metadata": {
        "id": "dH4fhjQHmkjh",
        "colab_type": "text"
      },
      "source": [
        "Q2-Convert the returned JSON object into a Python dictionary.\n"
      ]
    },
    {
      "cell_type": "code",
      "metadata": {
        "id": "AEf3tAvzmkL7",
        "colab_type": "code",
        "colab": {
          "base_uri": "https://localhost:8080/",
          "height": 35
        },
        "outputId": "6a2addbb-ff22-48d2-8758-7e70753bbe5d"
      },
      "source": [
        "AFX_X_data_json=AFX_X_data.json()\n",
        "type(AFX_X_data_json)"
      ],
      "execution_count": 212,
      "outputs": [
        {
          "output_type": "execute_result",
          "data": {
            "text/plain": [
              "dict"
            ]
          },
          "metadata": {
            "tags": []
          },
          "execution_count": 212
        }
      ]
    },
    {
      "cell_type": "markdown",
      "metadata": {
        "id": "bYlKFjmqmqVq",
        "colab_type": "text"
      },
      "source": [
        "Q3-Calculate what the highest and lowest opening prices were for the stock in this period."
      ]
    },
    {
      "cell_type": "code",
      "metadata": {
        "id": "AzcH_BRhmlNw",
        "colab_type": "code",
        "colab": {
          "base_uri": "https://localhost:8080/",
          "height": 52
        },
        "outputId": "38c67719-a554-4229-9fe0-07c3b0d44a9d"
      },
      "source": [
        "open_price=[]\n",
        "AFX_X_data_json['dataset_data']['data'][:2]\n",
        "\n",
        "for i in range(len(AFX_X_data_json['dataset_data']['data'])):\n",
        "  if AFX_X_data_json['dataset_data']['data'][i][1] != None:\n",
        "    open_price.append(AFX_X_data_json['dataset_data']['data'][i][1])\n",
        "\n",
        "open_price_highest=max(open_price)\n",
        "open_price_lowest=min(open_price)\n",
        "print('open_price_lowest is: {} \\n open_price_highest is: {}'.format(open_price_lowest,open_price_highest))"
      ],
      "execution_count": 231,
      "outputs": [
        {
          "output_type": "stream",
          "text": [
            "open_price_lowest is: 34.0 \n",
            " open_price_highest is: 53.11\n"
          ],
          "name": "stdout"
        }
      ]
    },
    {
      "cell_type": "markdown",
      "metadata": {
        "id": "CIOgs7_Pmrnv",
        "colab_type": "text"
      },
      "source": [
        "Q4-What was the largest change in any one day (based on High and Low price)?\n"
      ]
    },
    {
      "cell_type": "code",
      "metadata": {
        "id": "dahzveI9msaU",
        "colab_type": "code",
        "colab": {
          "base_uri": "https://localhost:8080/",
          "height": 35
        },
        "outputId": "760db0e4-ace2-4a6b-c626-f3e0494cd548"
      },
      "source": [
        "price_change=[]\n",
        "\n",
        "for i in range(len(AFX_X_data_json['dataset_data']['data'])):\n",
        "  if AFX_X_data_json['dataset_data']['data'][i][1] != None:\n",
        "    price_change.append(AFX_X_data_json['dataset_data']['data'][i][2]-AFX_X_data_json['dataset_data']['data'][i][3])\n",
        "\n",
        "print('largest change is one day is: {}'.format(max(price_change)))\n"
      ],
      "execution_count": 234,
      "outputs": [
        {
          "output_type": "stream",
          "text": [
            "largest change is one day is: 2.81\n"
          ],
          "name": "stdout"
        }
      ]
    },
    {
      "cell_type": "markdown",
      "metadata": {
        "id": "q8oqq5eLmtX4",
        "colab_type": "text"
      },
      "source": [
        "Q5-What was the largest change between any two days (based on Closing Price)?\n"
      ]
    },
    {
      "cell_type": "code",
      "metadata": {
        "id": "vU11LG_Cmt58",
        "colab_type": "code",
        "colab": {
          "base_uri": "https://localhost:8080/",
          "height": 35
        },
        "outputId": "ca4694c4-2989-418f-ef94-8599ce11084a"
      },
      "source": [
        "p_c_twodays=[]\n",
        "\n",
        "for i in range(len(AFX_X_data_json['dataset_data']['data'])):\n",
        "  if AFX_X_data_json['dataset_data']['data'][i][4] != None:\n",
        "    p_c_twodays.append(AFX_X_data_json['dataset_data']['data'][i][4])\n",
        "\n",
        "\n",
        "\n",
        "print('largest difference in closing price for any two days: {}'.format(max(p_c_twodays)-min(p_c_twodays)))"
      ],
      "execution_count": 237,
      "outputs": [
        {
          "output_type": "stream",
          "text": [
            "largest difference in closing price for any two days: 19.03\n"
          ],
          "name": "stdout"
        }
      ]
    },
    {
      "cell_type": "markdown",
      "metadata": {
        "id": "WEzmkCEHmwin",
        "colab_type": "text"
      },
      "source": [
        "Q6-What was the average daily trading volume during this year?\n",
        "\n"
      ]
    },
    {
      "cell_type": "code",
      "metadata": {
        "id": "vcid2UT-mwM5",
        "colab_type": "code",
        "colab": {
          "base_uri": "https://localhost:8080/",
          "height": 35
        },
        "outputId": "04c9fbcb-57db-49a9-9b9d-9e2907fd89c9"
      },
      "source": [
        "Trading_Volume=[]\n",
        "\n",
        "for i in range(len(AFX_X_data_json['dataset_data']['data'])):\n",
        "  if AFX_X_data_json['dataset_data']['data'][i][6] != None:\n",
        "    Trading_Volume.append(AFX_X_data_json['dataset_data']['data'][i][6])\n",
        "\n",
        "print('The trading volume average is: {:0.2f}'.format(sum(Trading_Volume)/len(Trading_Volume)))"
      ],
      "execution_count": 241,
      "outputs": [
        {
          "output_type": "stream",
          "text": [
            "The trading volume average is: 89124.34\n"
          ],
          "name": "stdout"
        }
      ]
    },
    {
      "cell_type": "code",
      "metadata": {
        "id": "HkPjezBuIk-V",
        "colab_type": "code",
        "colab": {}
      },
      "source": [
        ""
      ],
      "execution_count": 0,
      "outputs": []
    }
  ]
}